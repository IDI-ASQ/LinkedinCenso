{
 "cells": [
  {
   "cell_type": "markdown",
   "id": "71897c0a",
   "metadata": {},
   "source": [
    "# Proyecto Linkedin - Censo\n",
    "\n",
    "1. **¿Qué problema atacaremos?**\n",
    "\n",
    "No conocer el perfil de los colaboradores de la comunidad ASQ UNI\n",
    "\n",
    "2. **¿Quién tiene el problema?**\n",
    "\n",
    "    * Dirección de ``Talento Humano``: Para la realización de capacitaciones lo más acertadas posibles, de acuerdo al perfil y el nivel de conocimiento de la comunidad.\n",
    "\n",
    "    * Dirección de ``Investigación, desarrollo e innovación``: Encontrar miembros con perfiles, lo suficientemente afines para ser parte de un proyecto  \n",
    "\n",
    "\n",
    "3. **¿De qué trata el ``aporte``?**\n",
    "\n",
    "Deseamos automatizar el proceso de extracción de información de los perfiles de linkedin, por ejemplo:\n",
    "\n",
    "   * ``Nombre``\n",
    "   * ``Descripción``: Lo que aparece junto al nombre (practicante, especialista, etc...)\n",
    "   * ``Experiencia``: Título, Organización,Fechas\n",
    "   * ``Educación`` : Organización, Asunto, Fecha\n",
    "   * ``Licencias y certificaciones`` : Organización, asunto, Fecha (opcional)\n",
    "   * ``Conocimientos y aptitudes``: Conocimiento\n",
    "\n",
    "4. **¿Qué tipo de perfiles manejaremos?**\n",
    "    * Pregrado\n",
    "    * Egresados\n",
    "\n",
    "\n",
    "5. **¿Qué haremos con esa data?**\n",
    "\n",
    "Existen 3 escenarios:\n",
    "\n",
    "   * ``Pregrado``: Una vez tengamos esa información, en conjunto con ``GTH`` relizaremos un plan de webinars para mejorar el potencial de las habilidades primordiales que necesiten nuestro miembros\n",
    "   * ``Egresados``: Se contactará con estos especializas y hacer match con las necesidades de los miembros pregrado, para su correcta orientación en el munedo laboral"
   ]
  },
  {
   "cell_type": "code",
   "execution_count": null,
   "id": "7bcc6f9f",
   "metadata": {},
   "outputs": [],
   "source": []
  }
 ],
 "metadata": {
  "kernelspec": {
   "display_name": "Python 3 (ipykernel)",
   "language": "python",
   "name": "python3"
  },
  "language_info": {
   "codemirror_mode": {
    "name": "ipython",
    "version": 3
   },
   "file_extension": ".py",
   "mimetype": "text/x-python",
   "name": "python",
   "nbconvert_exporter": "python",
   "pygments_lexer": "ipython3",
   "version": "3.9.7"
  },
  "toc": {
   "base_numbering": 1,
   "nav_menu": {},
   "number_sections": true,
   "sideBar": true,
   "skip_h1_title": false,
   "title_cell": "Table of Contents",
   "title_sidebar": "Contents",
   "toc_cell": false,
   "toc_position": {},
   "toc_section_display": true,
   "toc_window_display": false
  },
  "varInspector": {
   "cols": {
    "lenName": 16,
    "lenType": 16,
    "lenVar": 40
   },
   "kernels_config": {
    "python": {
     "delete_cmd_postfix": "",
     "delete_cmd_prefix": "del ",
     "library": "var_list.py",
     "varRefreshCmd": "print(var_dic_list())"
    },
    "r": {
     "delete_cmd_postfix": ") ",
     "delete_cmd_prefix": "rm(",
     "library": "var_list.r",
     "varRefreshCmd": "cat(var_dic_list()) "
    }
   },
   "types_to_exclude": [
    "module",
    "function",
    "builtin_function_or_method",
    "instance",
    "_Feature"
   ],
   "window_display": false
  }
 },
 "nbformat": 4,
 "nbformat_minor": 5
}
