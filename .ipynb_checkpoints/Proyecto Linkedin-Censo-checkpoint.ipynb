{
 "cells": [
  {
   "cell_type": "markdown",
   "id": "71897c0a",
   "metadata": {},
   "source": [
    "# Proyecto Linkedin - Censo\n",
    "\n",
    "1. **¿Qué problema atacaremos?**\n",
    "\n",
    "No conocer el perfil de los colaboradores de la comunidad ASQ UNI\n",
    "\n",
    "2. **¿Quién tiene el problema?**\n",
    "\n",
    "    * Dirección de ``Talento Humano``: Para la realización de capacitaciones lo más acertadas posibles, de acuerdo al perfil y el nivel de conocimiento de la comunidad.\n",
    "\n",
    "    * Dirección de ``Investigación, desarrollo e innovación``: Encontrar miembros con perfiles, lo suficientemente afines para ser parte de un proyecto  \n",
    "\n",
    "\n",
    "3. **¿De qué trata el ``aporte``?**\n",
    "\n",
    "Deseamos automatizar el proceso de extracción de información de los perfiles de linkedin, por ejemplo:\n",
    "\n",
    "   * ``Nombre``\n",
    "   * ``Descripción``: Lo que aparece junto al nombre (practicante, especialista, etc...)\n",
    "   * ``Experiencia``: Título, Organización,Fechas\n",
    "   * ``Educación`` : Organización, Asunto, Fecha\n",
    "   * ``Licencias y certificaciones`` : Organización, asunto, Fecha (opcional)\n",
    "   * ``Conocimientos y aptitudes``: Conocimiento\n",
    "   * ``URL``: url del perfil en búsqueda\n",
    "   \n",
    "\n",
    "   \n",
    "   * ``Tiempo de extraccióm``\n",
    "   \n",
    "4. **¿Qué tipo de perfiles manejaremos?**\n",
    "    * Pregrado\n",
    "    * Egresados\n",
    "\n",
    "\n",
    "5. **¿Qué haremos con esa data?**\n",
    "\n",
    "Existen 3 escenarios:\n",
    "\n",
    "   * ``Pregrado``: Una vez tengamos esa información, en conjunto con ``GTH`` relizaremos un plan de webinars para mejorar el potencial de las habilidades primordiales que necesiten nuestro miembros\n",
    "   * ``Egresados``: Se contactará con estos especializas y hacer match con las necesidades de los miembros pregrado, para su correcta orientación en el munedo laboral\n",
    "   * ``FIIS``: Busqueda de perfiles de egresados $\\rightarrow$ Asociación de egresados. Perfilar al egresado, actualización de la malla (empleabilidad), Tendencias.\n",
    "       \n",
    "       - Daniel Paredes: Exterior \n",
    "       - Karina Canales: Google\n",
    "       \n",
    "6. **Supuestos**\n",
    " \n",
    "   * Que ``GTH`` desarrolle el taller ``Buenas prácticas para el llenado de Linkedn`` \n",
    "   * Contar con una cuenta ``linkedin`` para agilizar la extracción"
   ]
  },
  {
   "cell_type": "code",
   "execution_count": 47,
   "id": "7bcc6f9f",
   "metadata": {},
   "outputs": [],
   "source": [
    "#!pip install requests\n",
    "#!pip install scrapy"
   ]
  },
  {
   "cell_type": "code",
   "execution_count": 50,
   "id": "0c0ba15d",
   "metadata": {},
   "outputs": [],
   "source": [
    "import requests # nos permitirá enviar solicitudes HTTP con Python (get: navegar por las páginas)\n",
    "from bs4 import BeautifulSoup # Extraer información de las páginas --> Xpath\n",
    "import pandas as pd # Estructura de ala data extraida en dataframes y poder procesarlas\n",
    "\n",
    "from selenium import webdriver # simil al request \n",
    "import os\n",
    "import time \n",
    "from selenium.webdriver.common.keys import Keys #escribir en el navegador\n",
    "\n",
    "\n",
    "import scrapy # librería más completa\n",
    "\n",
    "import plotly\n",
    "import dash"
   ]
  },
  {
   "cell_type": "code",
   "execution_count": 44,
   "id": "f5bf9734",
   "metadata": {},
   "outputs": [
    {
     "name": "stdout",
     "output_type": "stream",
     "text": [
      "<Response [999]>\n"
     ]
    }
   ],
   "source": [
    "ruta = \"https://pe.linkedin.com/in/carlosrondanp\"\n",
    "pagina = requests.get(ruta)\n",
    "print(pagina)"
   ]
  },
  {
   "cell_type": "markdown",
   "id": "6999bdf2",
   "metadata": {},
   "source": [
    "Revisar la página https://docs.python-requests.org/en/latest/"
   ]
  },
  {
   "cell_type": "code",
   "execution_count": null,
   "id": "3a181b5a",
   "metadata": {},
   "outputs": [],
   "source": []
  }
 ],
 "metadata": {
  "kernelspec": {
   "display_name": "Python 3 (ipykernel)",
   "language": "python",
   "name": "python3"
  },
  "language_info": {
   "codemirror_mode": {
    "name": "ipython",
    "version": 3
   },
   "file_extension": ".py",
   "mimetype": "text/x-python",
   "name": "python",
   "nbconvert_exporter": "python",
   "pygments_lexer": "ipython3",
   "version": "3.9.7"
  },
  "toc": {
   "base_numbering": 1,
   "nav_menu": {},
   "number_sections": true,
   "sideBar": true,
   "skip_h1_title": false,
   "title_cell": "Table of Contents",
   "title_sidebar": "Contents",
   "toc_cell": false,
   "toc_position": {},
   "toc_section_display": true,
   "toc_window_display": false
  },
  "varInspector": {
   "cols": {
    "lenName": 16,
    "lenType": 16,
    "lenVar": 40
   },
   "kernels_config": {
    "python": {
     "delete_cmd_postfix": "",
     "delete_cmd_prefix": "del ",
     "library": "var_list.py",
     "varRefreshCmd": "print(var_dic_list())"
    },
    "r": {
     "delete_cmd_postfix": ") ",
     "delete_cmd_prefix": "rm(",
     "library": "var_list.r",
     "varRefreshCmd": "cat(var_dic_list()) "
    }
   },
   "types_to_exclude": [
    "module",
    "function",
    "builtin_function_or_method",
    "instance",
    "_Feature"
   ],
   "window_display": false
  }
 },
 "nbformat": 4,
 "nbformat_minor": 5
}
